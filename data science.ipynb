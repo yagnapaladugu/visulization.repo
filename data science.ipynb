{
 "cells": [
  {
   "cell_type": "code",
   "execution_count": 1,
   "id": "638416ae",
   "metadata": {
    "execution": {
     "iopub.execute_input": "2022-08-17T10:25:21.177079Z",
     "iopub.status.busy": "2022-08-17T10:25:21.176291Z",
     "iopub.status.idle": "2022-08-17T10:25:22.240391Z",
     "shell.execute_reply": "2022-08-17T10:25:22.239119Z"
    },
    "id": "638416ae",
    "papermill": {
     "duration": 1.082854,
     "end_time": "2022-08-17T10:25:22.244375",
     "exception": false,
     "start_time": "2022-08-17T10:25:21.161521",
     "status": "completed"
    },
    "tags": []
   },
   "outputs": [],
   "source": [
    "#importing libraries\n",
    "import pandas as pd\n",
    "import seaborn as sns\n",
    "import matplotlib.pyplot as plt"
   ]
  },
  {
   "cell_type": "code",
   "execution_count": 2,
   "id": "3e16f51d",
   "metadata": {
    "execution": {
     "iopub.execute_input": "2022-08-17T10:25:22.289390Z",
     "iopub.status.busy": "2022-08-17T10:25:22.288968Z",
     "iopub.status.idle": "2022-08-17T10:25:22.314856Z",
     "shell.execute_reply": "2022-08-17T10:25:22.313875Z"
    },
    "id": "3e16f51d",
    "papermill": {
     "duration": 0.039842,
     "end_time": "2022-08-17T10:25:22.317298",
     "exception": false,
     "start_time": "2022-08-17T10:25:22.277456",
     "status": "completed"
    },
    "tags": []
   },
   "outputs": [],
   "source": [
    "#Loading Supermarket Sales Data\n",
    "df = pd.read_csv(\"dataset.csv\")"
   ]
  },
  {
   "cell_type": "code",
   "execution_count": 3,
   "id": "ad08c015",
   "metadata": {
    "colab": {
     "base_uri": "https://localhost:8080/",
     "height": 355
    },
    "execution": {
     "iopub.execute_input": "2022-08-17T10:25:22.362072Z",
     "iopub.status.busy": "2022-08-17T10:25:22.361651Z",
     "iopub.status.idle": "2022-08-17T10:25:22.391371Z",
     "shell.execute_reply": "2022-08-17T10:25:22.390194Z"
    },
    "id": "ad08c015",
    "outputId": "a3a5bb69-1202-4ded-be02-09beba849587",
    "papermill": {
     "duration": 0.044382,
     "end_time": "2022-08-17T10:25:22.394353",
     "exception": false,
     "start_time": "2022-08-17T10:25:22.349971",
     "status": "completed"
    },
    "tags": []
   },
   "outputs": [
    {
     "data": {
      "text/html": [
       "<div>\n",
       "<style scoped>\n",
       "    .dataframe tbody tr th:only-of-type {\n",
       "        vertical-align: middle;\n",
       "    }\n",
       "\n",
       "    .dataframe tbody tr th {\n",
       "        vertical-align: top;\n",
       "    }\n",
       "\n",
       "    .dataframe thead th {\n",
       "        text-align: right;\n",
       "    }\n",
       "</style>\n",
       "<table border=\"1\" class=\"dataframe\">\n",
       "  <thead>\n",
       "    <tr style=\"text-align: right;\">\n",
       "      <th></th>\n",
       "      <th>Invoice ID</th>\n",
       "      <th>Branch</th>\n",
       "      <th>City</th>\n",
       "      <th>Customer type</th>\n",
       "      <th>Gender</th>\n",
       "      <th>Product line</th>\n",
       "      <th>Unit price</th>\n",
       "      <th>Quantity</th>\n",
       "      <th>Tax 5%</th>\n",
       "      <th>Total</th>\n",
       "      <th>Date</th>\n",
       "      <th>Time</th>\n",
       "      <th>Payment</th>\n",
       "      <th>cogs</th>\n",
       "      <th>gross margin percentage</th>\n",
       "      <th>gross income</th>\n",
       "      <th>Rating</th>\n",
       "    </tr>\n",
       "  </thead>\n",
       "  <tbody>\n",
       "    <tr>\n",
       "      <th>0</th>\n",
       "      <td>750-67-8428</td>\n",
       "      <td>A</td>\n",
       "      <td>Yangon</td>\n",
       "      <td>Member</td>\n",
       "      <td>Female</td>\n",
       "      <td>Health and beauty</td>\n",
       "      <td>74.69</td>\n",
       "      <td>7</td>\n",
       "      <td>26.1415</td>\n",
       "      <td>548.9715</td>\n",
       "      <td>1/5/2019</td>\n",
       "      <td>13:08</td>\n",
       "      <td>Ewallet</td>\n",
       "      <td>522.83</td>\n",
       "      <td>4.761905</td>\n",
       "      <td>26.1415</td>\n",
       "      <td>9.1</td>\n",
       "    </tr>\n",
       "    <tr>\n",
       "      <th>1</th>\n",
       "      <td>226-31-3081</td>\n",
       "      <td>C</td>\n",
       "      <td>Naypyitaw</td>\n",
       "      <td>Normal</td>\n",
       "      <td>Female</td>\n",
       "      <td>Electronic accessories</td>\n",
       "      <td>15.28</td>\n",
       "      <td>5</td>\n",
       "      <td>3.8200</td>\n",
       "      <td>80.2200</td>\n",
       "      <td>3/8/2019</td>\n",
       "      <td>10:29</td>\n",
       "      <td>Cash</td>\n",
       "      <td>76.40</td>\n",
       "      <td>4.761905</td>\n",
       "      <td>3.8200</td>\n",
       "      <td>9.6</td>\n",
       "    </tr>\n",
       "    <tr>\n",
       "      <th>2</th>\n",
       "      <td>631-41-3108</td>\n",
       "      <td>A</td>\n",
       "      <td>Yangon</td>\n",
       "      <td>Normal</td>\n",
       "      <td>Male</td>\n",
       "      <td>Home and lifestyle</td>\n",
       "      <td>46.33</td>\n",
       "      <td>7</td>\n",
       "      <td>16.2155</td>\n",
       "      <td>340.5255</td>\n",
       "      <td>3/3/2019</td>\n",
       "      <td>13:23</td>\n",
       "      <td>Credit card</td>\n",
       "      <td>324.31</td>\n",
       "      <td>4.761905</td>\n",
       "      <td>16.2155</td>\n",
       "      <td>7.4</td>\n",
       "    </tr>\n",
       "    <tr>\n",
       "      <th>3</th>\n",
       "      <td>123-19-1176</td>\n",
       "      <td>A</td>\n",
       "      <td>Yangon</td>\n",
       "      <td>Member</td>\n",
       "      <td>Male</td>\n",
       "      <td>Health and beauty</td>\n",
       "      <td>58.22</td>\n",
       "      <td>8</td>\n",
       "      <td>23.2880</td>\n",
       "      <td>489.0480</td>\n",
       "      <td>1/27/2019</td>\n",
       "      <td>20:33</td>\n",
       "      <td>Ewallet</td>\n",
       "      <td>465.76</td>\n",
       "      <td>4.761905</td>\n",
       "      <td>23.2880</td>\n",
       "      <td>8.4</td>\n",
       "    </tr>\n",
       "    <tr>\n",
       "      <th>4</th>\n",
       "      <td>373-73-7910</td>\n",
       "      <td>A</td>\n",
       "      <td>Yangon</td>\n",
       "      <td>Normal</td>\n",
       "      <td>Male</td>\n",
       "      <td>Sports and travel</td>\n",
       "      <td>86.31</td>\n",
       "      <td>7</td>\n",
       "      <td>30.2085</td>\n",
       "      <td>634.3785</td>\n",
       "      <td>2/8/2019</td>\n",
       "      <td>10:37</td>\n",
       "      <td>Ewallet</td>\n",
       "      <td>604.17</td>\n",
       "      <td>4.761905</td>\n",
       "      <td>30.2085</td>\n",
       "      <td>5.3</td>\n",
       "    </tr>\n",
       "  </tbody>\n",
       "</table>\n",
       "</div>"
      ],
      "text/plain": [
       "    Invoice ID Branch       City Customer type  Gender  \\\n",
       "0  750-67-8428      A     Yangon        Member  Female   \n",
       "1  226-31-3081      C  Naypyitaw        Normal  Female   \n",
       "2  631-41-3108      A     Yangon        Normal    Male   \n",
       "3  123-19-1176      A     Yangon        Member    Male   \n",
       "4  373-73-7910      A     Yangon        Normal    Male   \n",
       "\n",
       "             Product line  Unit price  Quantity   Tax 5%     Total       Date  \\\n",
       "0       Health and beauty       74.69         7  26.1415  548.9715   1/5/2019   \n",
       "1  Electronic accessories       15.28         5   3.8200   80.2200   3/8/2019   \n",
       "2      Home and lifestyle       46.33         7  16.2155  340.5255   3/3/2019   \n",
       "3       Health and beauty       58.22         8  23.2880  489.0480  1/27/2019   \n",
       "4       Sports and travel       86.31         7  30.2085  634.3785   2/8/2019   \n",
       "\n",
       "    Time      Payment    cogs  gross margin percentage  gross income  Rating  \n",
       "0  13:08      Ewallet  522.83                 4.761905       26.1415     9.1  \n",
       "1  10:29         Cash   76.40                 4.761905        3.8200     9.6  \n",
       "2  13:23  Credit card  324.31                 4.761905       16.2155     7.4  \n",
       "3  20:33      Ewallet  465.76                 4.761905       23.2880     8.4  \n",
       "4  10:37      Ewallet  604.17                 4.761905       30.2085     5.3  "
      ]
     },
     "execution_count": 3,
     "metadata": {},
     "output_type": "execute_result"
    }
   ],
   "source": [
    "df.head()"
   ]
  },
  {
   "cell_type": "code",
   "execution_count": 4,
   "id": "476d1d59",
   "metadata": {
    "colab": {
     "base_uri": "https://localhost:8080/"
    },
    "execution": {
     "iopub.execute_input": "2022-08-17T10:25:22.417317Z",
     "iopub.status.busy": "2022-08-17T10:25:22.416938Z",
     "iopub.status.idle": "2022-08-17T10:25:22.423898Z",
     "shell.execute_reply": "2022-08-17T10:25:22.422779Z"
    },
    "id": "476d1d59",
    "outputId": "ecd90c0a-046f-42f4-ce6f-d7987a8d7a36",
    "papermill": {
     "duration": 0.0211,
     "end_time": "2022-08-17T10:25:22.426148",
     "exception": false,
     "start_time": "2022-08-17T10:25:22.405048",
     "status": "completed"
    },
    "tags": []
   },
   "outputs": [
    {
     "data": {
      "text/plain": [
       "Index(['Invoice ID', 'Branch', 'City', 'Customer type', 'Gender',\n",
       "       'Product line', 'Unit price', 'Quantity', 'Tax 5%', 'Total', 'Date',\n",
       "       'Time', 'Payment', 'cogs', 'gross margin percentage', 'gross income',\n",
       "       'Rating'],\n",
       "      dtype='object')"
      ]
     },
     "execution_count": 4,
     "metadata": {},
     "output_type": "execute_result"
    }
   ],
   "source": [
    "#Columns present in the dataset\n",
    "df.columns"
   ]
  },
  {
   "cell_type": "code",
   "execution_count": 5,
   "id": "e2199e88",
   "metadata": {
    "colab": {
     "base_uri": "https://localhost:8080/"
    },
    "execution": {
     "iopub.execute_input": "2022-08-17T10:25:22.450013Z",
     "iopub.status.busy": "2022-08-17T10:25:22.449560Z",
     "iopub.status.idle": "2022-08-17T10:25:22.459970Z",
     "shell.execute_reply": "2022-08-17T10:25:22.458846Z"
    },
    "id": "e2199e88",
    "outputId": "62893833-ea68-4328-f300-181cf3659cc8",
    "papermill": {
     "duration": 0.025347,
     "end_time": "2022-08-17T10:25:22.462187",
     "exception": false,
     "start_time": "2022-08-17T10:25:22.436840",
     "status": "completed"
    },
    "tags": []
   },
   "outputs": [
    {
     "data": {
      "text/plain": [
       "Invoice ID                 0\n",
       "Branch                     0\n",
       "City                       0\n",
       "Customer type              0\n",
       "Gender                     0\n",
       "Product line               0\n",
       "Unit price                 0\n",
       "Quantity                   0\n",
       "Tax 5%                     0\n",
       "Total                      0\n",
       "Date                       0\n",
       "Time                       0\n",
       "Payment                    0\n",
       "cogs                       0\n",
       "gross margin percentage    0\n",
       "gross income               0\n",
       "Rating                     0\n",
       "dtype: int64"
      ]
     },
     "execution_count": 5,
     "metadata": {},
     "output_type": "execute_result"
    }
   ],
   "source": [
    "#Checking for null values\n",
    "df.isnull().sum()"
   ]
  },
  {
   "cell_type": "code",
   "execution_count": 6,
   "id": "3279a66b",
   "metadata": {
    "colab": {
     "base_uri": "https://localhost:8080/"
    },
    "execution": {
     "iopub.execute_input": "2022-08-17T10:25:22.485675Z",
     "iopub.status.busy": "2022-08-17T10:25:22.485288Z",
     "iopub.status.idle": "2022-08-17T10:25:22.509549Z",
     "shell.execute_reply": "2022-08-17T10:25:22.508323Z"
    },
    "id": "3279a66b",
    "outputId": "e2292bf3-9bc7-46c6-b2ce-71e1e035fa68",
    "papermill": {
     "duration": 0.039084,
     "end_time": "2022-08-17T10:25:22.512141",
     "exception": false,
     "start_time": "2022-08-17T10:25:22.473057",
     "status": "completed"
    },
    "tags": []
   },
   "outputs": [
    {
     "name": "stdout",
     "output_type": "stream",
     "text": [
      "<class 'pandas.core.frame.DataFrame'>\n",
      "RangeIndex: 1000 entries, 0 to 999\n",
      "Data columns (total 17 columns):\n",
      " #   Column                   Non-Null Count  Dtype  \n",
      "---  ------                   --------------  -----  \n",
      " 0   Invoice ID               1000 non-null   object \n",
      " 1   Branch                   1000 non-null   object \n",
      " 2   City                     1000 non-null   object \n",
      " 3   Customer type            1000 non-null   object \n",
      " 4   Gender                   1000 non-null   object \n",
      " 5   Product line             1000 non-null   object \n",
      " 6   Unit price               1000 non-null   float64\n",
      " 7   Quantity                 1000 non-null   int64  \n",
      " 8   Tax 5%                   1000 non-null   float64\n",
      " 9   Total                    1000 non-null   float64\n",
      " 10  Date                     1000 non-null   object \n",
      " 11  Time                     1000 non-null   object \n",
      " 12  Payment                  1000 non-null   object \n",
      " 13  cogs                     1000 non-null   float64\n",
      " 14  gross margin percentage  1000 non-null   float64\n",
      " 15  gross income             1000 non-null   float64\n",
      " 16  Rating                   1000 non-null   float64\n",
      "dtypes: float64(7), int64(1), object(9)\n",
      "memory usage: 132.9+ KB\n"
     ]
    }
   ],
   "source": [
    "#Checking datatypes of columns\n",
    "df.info()"
   ]
  },
  {
   "cell_type": "code",
   "execution_count": 7,
   "id": "0cee0b25",
   "metadata": {
    "colab": {
     "base_uri": "https://localhost:8080/",
     "height": 301
    },
    "execution": {
     "iopub.execute_input": "2022-08-17T10:25:22.536366Z",
     "iopub.status.busy": "2022-08-17T10:25:22.535957Z",
     "iopub.status.idle": "2022-08-17T10:25:22.578553Z",
     "shell.execute_reply": "2022-08-17T10:25:22.577414Z"
    },
    "id": "0cee0b25",
    "outputId": "41eeac78-5468-4932-f4e5-b676aedecec1",
    "papermill": {
     "duration": 0.057786,
     "end_time": "2022-08-17T10:25:22.581445",
     "exception": false,
     "start_time": "2022-08-17T10:25:22.523659",
     "status": "completed"
    },
    "tags": []
   },
   "outputs": [
    {
     "data": {
      "text/html": [
       "<div>\n",
       "<style scoped>\n",
       "    .dataframe tbody tr th:only-of-type {\n",
       "        vertical-align: middle;\n",
       "    }\n",
       "\n",
       "    .dataframe tbody tr th {\n",
       "        vertical-align: top;\n",
       "    }\n",
       "\n",
       "    .dataframe thead th {\n",
       "        text-align: right;\n",
       "    }\n",
       "</style>\n",
       "<table border=\"1\" class=\"dataframe\">\n",
       "  <thead>\n",
       "    <tr style=\"text-align: right;\">\n",
       "      <th></th>\n",
       "      <th>Unit price</th>\n",
       "      <th>Quantity</th>\n",
       "      <th>Tax 5%</th>\n",
       "      <th>Total</th>\n",
       "      <th>cogs</th>\n",
       "      <th>gross margin percentage</th>\n",
       "      <th>gross income</th>\n",
       "      <th>Rating</th>\n",
       "    </tr>\n",
       "  </thead>\n",
       "  <tbody>\n",
       "    <tr>\n",
       "      <th>count</th>\n",
       "      <td>1000.000000</td>\n",
       "      <td>1000.000000</td>\n",
       "      <td>1000.000000</td>\n",
       "      <td>1000.000000</td>\n",
       "      <td>1000.00000</td>\n",
       "      <td>1.000000e+03</td>\n",
       "      <td>1000.000000</td>\n",
       "      <td>1000.00000</td>\n",
       "    </tr>\n",
       "    <tr>\n",
       "      <th>mean</th>\n",
       "      <td>55.672130</td>\n",
       "      <td>5.510000</td>\n",
       "      <td>15.379369</td>\n",
       "      <td>322.966749</td>\n",
       "      <td>307.58738</td>\n",
       "      <td>4.761905e+00</td>\n",
       "      <td>15.379369</td>\n",
       "      <td>6.97270</td>\n",
       "    </tr>\n",
       "    <tr>\n",
       "      <th>std</th>\n",
       "      <td>26.494628</td>\n",
       "      <td>2.923431</td>\n",
       "      <td>11.708825</td>\n",
       "      <td>245.885335</td>\n",
       "      <td>234.17651</td>\n",
       "      <td>6.131498e-14</td>\n",
       "      <td>11.708825</td>\n",
       "      <td>1.71858</td>\n",
       "    </tr>\n",
       "    <tr>\n",
       "      <th>min</th>\n",
       "      <td>10.080000</td>\n",
       "      <td>1.000000</td>\n",
       "      <td>0.508500</td>\n",
       "      <td>10.678500</td>\n",
       "      <td>10.17000</td>\n",
       "      <td>4.761905e+00</td>\n",
       "      <td>0.508500</td>\n",
       "      <td>4.00000</td>\n",
       "    </tr>\n",
       "    <tr>\n",
       "      <th>25%</th>\n",
       "      <td>32.875000</td>\n",
       "      <td>3.000000</td>\n",
       "      <td>5.924875</td>\n",
       "      <td>124.422375</td>\n",
       "      <td>118.49750</td>\n",
       "      <td>4.761905e+00</td>\n",
       "      <td>5.924875</td>\n",
       "      <td>5.50000</td>\n",
       "    </tr>\n",
       "    <tr>\n",
       "      <th>50%</th>\n",
       "      <td>55.230000</td>\n",
       "      <td>5.000000</td>\n",
       "      <td>12.088000</td>\n",
       "      <td>253.848000</td>\n",
       "      <td>241.76000</td>\n",
       "      <td>4.761905e+00</td>\n",
       "      <td>12.088000</td>\n",
       "      <td>7.00000</td>\n",
       "    </tr>\n",
       "    <tr>\n",
       "      <th>75%</th>\n",
       "      <td>77.935000</td>\n",
       "      <td>8.000000</td>\n",
       "      <td>22.445250</td>\n",
       "      <td>471.350250</td>\n",
       "      <td>448.90500</td>\n",
       "      <td>4.761905e+00</td>\n",
       "      <td>22.445250</td>\n",
       "      <td>8.50000</td>\n",
       "    </tr>\n",
       "    <tr>\n",
       "      <th>max</th>\n",
       "      <td>99.960000</td>\n",
       "      <td>10.000000</td>\n",
       "      <td>49.650000</td>\n",
       "      <td>1042.650000</td>\n",
       "      <td>993.00000</td>\n",
       "      <td>4.761905e+00</td>\n",
       "      <td>49.650000</td>\n",
       "      <td>10.00000</td>\n",
       "    </tr>\n",
       "  </tbody>\n",
       "</table>\n",
       "</div>"
      ],
      "text/plain": [
       "        Unit price     Quantity       Tax 5%        Total        cogs  \\\n",
       "count  1000.000000  1000.000000  1000.000000  1000.000000  1000.00000   \n",
       "mean     55.672130     5.510000    15.379369   322.966749   307.58738   \n",
       "std      26.494628     2.923431    11.708825   245.885335   234.17651   \n",
       "min      10.080000     1.000000     0.508500    10.678500    10.17000   \n",
       "25%      32.875000     3.000000     5.924875   124.422375   118.49750   \n",
       "50%      55.230000     5.000000    12.088000   253.848000   241.76000   \n",
       "75%      77.935000     8.000000    22.445250   471.350250   448.90500   \n",
       "max      99.960000    10.000000    49.650000  1042.650000   993.00000   \n",
       "\n",
       "       gross margin percentage  gross income      Rating  \n",
       "count             1.000000e+03   1000.000000  1000.00000  \n",
       "mean              4.761905e+00     15.379369     6.97270  \n",
       "std               6.131498e-14     11.708825     1.71858  \n",
       "min               4.761905e+00      0.508500     4.00000  \n",
       "25%               4.761905e+00      5.924875     5.50000  \n",
       "50%               4.761905e+00     12.088000     7.00000  \n",
       "75%               4.761905e+00     22.445250     8.50000  \n",
       "max               4.761905e+00     49.650000    10.00000  "
      ]
     },
     "execution_count": 7,
     "metadata": {},
     "output_type": "execute_result"
    }
   ],
   "source": [
    "#Stats of data\n",
    "df.describe()"
   ]
  },
  {
   "cell_type": "code",
   "execution_count": 8,
   "id": "73e807df",
   "metadata": {
    "colab": {
     "base_uri": "https://localhost:8080/",
     "height": 401
    },
    "execution": {
     "iopub.execute_input": "2022-08-17T10:25:22.635467Z",
     "iopub.status.busy": "2022-08-17T10:25:22.634406Z",
     "iopub.status.idle": "2022-08-17T10:25:22.990651Z",
     "shell.execute_reply": "2022-08-17T10:25:22.989435Z"
    },
    "id": "73e807df",
    "outputId": "8cf2a279-5101-4e1c-ab1f-55ead183656f",
    "papermill": {
     "duration": 0.372914,
     "end_time": "2022-08-17T10:25:22.992884",
     "exception": false,
     "start_time": "2022-08-17T10:25:22.619970",
     "status": "completed"
    },
    "tags": []
   },
   "outputs": [
    {
     "data": {
      "text/plain": [
       "<AxesSubplot:>"
      ]
     },
     "execution_count": 8,
     "metadata": {},
     "output_type": "execute_result"
    },
    {
     "data": {
      "image/png": "[encoded data removed]",
      "text/plain": [
       "<Figure size 640x480 with 2 Axes>"
      ]
     },
     "metadata": {},
     "output_type": "display_data"
    }
   ],
   "source": [
    "sns.heatmap(df.corr())"
   ]
  },
  {
   "cell_type": "code",
   "execution_count": 9,
   "id": "6d8645cb",
   "metadata": {
    "execution": {
     "iopub.execute_input": "2022-08-17T10:25:23.041501Z",
     "iopub.status.busy": "2022-08-17T10:25:23.040779Z",
     "iopub.status.idle": "2022-08-17T10:25:23.047217Z",
     "shell.execute_reply": "2022-08-17T10:25:23.045814Z"
    },
    "id": "6d8645cb",
    "papermill": {
     "duration": 0.021855,
     "end_time": "2022-08-17T10:25:23.049658",
     "exception": false,
     "start_time": "2022-08-17T10:25:23.027803",
     "status": "completed"
    },
    "tags": []
   },
   "outputs": [],
   "source": [
    "df.drop(columns=['gross margin percentage'], axis = 1, inplace=True)"
   ]
  },
  {
   "cell_type": "code",
   "execution_count": 10,
   "id": "b7b203f6",
   "metadata": {
    "colab": {
     "base_uri": "https://localhost:8080/"
    },
    "execution": {
     "iopub.execute_input": "2022-08-17T10:25:23.074599Z",
     "iopub.status.busy": "2022-08-17T10:25:23.074178Z",
     "iopub.status.idle": "2022-08-17T10:25:23.081231Z",
     "shell.execute_reply": "2022-08-17T10:25:23.080329Z"
    },
    "id": "b7b203f6",
    "outputId": "024ff236-bfc5-4b26-a929-f3bc152f85b2",
    "papermill": {
     "duration": 0.021947,
     "end_time": "2022-08-17T10:25:23.083284",
     "exception": false,
     "start_time": "2022-08-17T10:25:23.061337",
     "status": "completed"
    },
    "tags": []
   },
   "outputs": [
    {
     "data": {
      "text/plain": [
       "Index(['Invoice ID', 'Branch', 'City', 'Customer type', 'Gender',\n",
       "       'Product line', 'Unit price', 'Quantity', 'Tax 5%', 'Total', 'Date',\n",
       "       'Time', 'Payment', 'cogs', 'gross income', 'Rating'],\n",
       "      dtype='object')"
      ]
     },
     "execution_count": 10,
     "metadata": {},
     "output_type": "execute_result"
    }
   ],
   "source": [
    "df.columns"
   ]
  },
  {
   "cell_type": "code",
   "execution_count": 11,
   "id": "fd6c8807",
   "metadata": {
    "colab": {
     "base_uri": "https://localhost:8080/",
     "height": 296
    },
    "execution": {
     "iopub.execute_input": "2022-08-17T10:25:32.140296Z",
     "iopub.status.busy": "2022-08-17T10:25:32.139617Z",
     "iopub.status.idle": "2022-08-17T10:25:32.422208Z",
     "shell.execute_reply": "2022-08-17T10:25:32.420968Z"
    },
    "id": "fd6c8807",
    "outputId": "effb05e3-2678-4ffe-f31d-660f43abdca8",
    "papermill": {
     "duration": 0.308428,
     "end_time": "2022-08-17T10:25:32.424795",
     "exception": false,
     "start_time": "2022-08-17T10:25:32.116367",
     "status": "completed"
    },
    "tags": []
   },
   "outputs": [
    {
     "data": {
      "text/plain": [
       "<AxesSubplot:xlabel='City', ylabel='Total'>"
      ]
     },
     "execution_count": 11,
     "metadata": {},
     "output_type": "execute_result"
    },
    {
     "data": {
      "image/png": "[encoded data removed]",
      "text/plain": [
       "<Figure size 640x480 with 1 Axes>"
      ]
     },
     "metadata": {},
     "output_type": "display_data"
    }
   ],
   "source": [
    "sns.barplot(x=\"City\",y=\"Total\" , data = df)"
   ]
  },
  {
   "cell_type": "code",
   "execution_count": 12,
   "id": "32f1c8ce",
   "metadata": {
    "colab": {
     "base_uri": "https://localhost:8080/",
     "height": 296
    },
    "execution": {
     "iopub.execute_input": "2022-08-17T10:25:32.831491Z",
     "iopub.status.busy": "2022-08-17T10:25:32.830646Z",
     "iopub.status.idle": "2022-08-17T10:25:33.072244Z",
     "shell.execute_reply": "2022-08-17T10:25:33.071000Z"
    },
    "id": "32f1c8ce",
    "outputId": "cec63c35-b311-4b84-ed9c-4c2831f4c2d8",
    "papermill": {
     "duration": 0.268574,
     "end_time": "2022-08-17T10:25:33.074700",
     "exception": false,
     "start_time": "2022-08-17T10:25:32.806126",
     "status": "completed"
    },
    "tags": []
   },
   "outputs": [
    {
     "data": {
      "text/plain": [
       "<matplotlib.axes._subplots.AxesSubplot at 0x7f78b0847e50>"
      ]
     },
     "execution_count": 12,
     "metadata": {},
     "output_type": "execute_result"
    },
    {
     "data": {
      "image/png": "[encoded data removed]",
      "text/plain": [
       "<Figure size 432x288 with 1 Axes>"
      ]
     },
     "metadata": {
      "needs_background": "light"
     },
     "output_type": "display_data"
    }
   ],
   "source": [
    "sns.barplot(x=\"Customer type\",y=\"Total\" , data = df)"
   ]
  },
  {
   "cell_type": "code",
   "execution_count": 12,
   "id": "rZ_6EXEuKYYT",
   "metadata": {
    "id": "rZ_6EXEuKYYT"
   },
   "outputs": [],
   "source": []
  },
  {
   "cell_type": "code",
   "execution_count": 13,
   "id": "0d9c6055",
   "metadata": {
    "colab": {
     "base_uri": "https://localhost:8080/",
     "height": 296
    },
    "execution": {
     "iopub.execute_input": "2022-08-17T10:25:33.166603Z",
     "iopub.status.busy": "2022-08-17T10:25:33.165194Z",
     "iopub.status.idle": "2022-08-17T10:25:33.413073Z",
     "shell.execute_reply": "2022-08-17T10:25:33.411838Z"
    },
    "id": "0d9c6055",
    "outputId": "36693405-4bd7-42e0-ebf6-dc81cebdc81c",
    "papermill": {
     "duration": 0.274356,
     "end_time": "2022-08-17T10:25:33.415703",
     "exception": false,
     "start_time": "2022-08-17T10:25:33.141347",
     "status": "completed"
    },
    "tags": []
   },
   "outputs": [
    {
     "data": {
      "text/plain": [
       "<matplotlib.axes._subplots.AxesSubplot at 0x7f78b07adf90>"
      ]
     },
     "execution_count": 13,
     "metadata": {},
     "output_type": "execute_result"
    },
    {
     "data": {
      "image/png": "[encoded data removed]",
      "text/plain": [
       "<Figure size 432x288 with 1 Axes>"
      ]
     },
     "metadata": {
      "needs_background": "light"
     },
     "output_type": "display_data"
    }
   ],
   "source": [
    "sns.barplot(x=\"Customer type\",y=\"gross income\" , data = df)"
   ]
  },
  {
   "cell_type": "code",
   "execution_count": 14,
   "id": "765f7f11",
   "metadata": {
    "colab": {
     "base_uri": "https://localhost:8080/",
     "height": 296
    },
    "execution": {
     "iopub.execute_input": "2022-08-17T10:25:33.465375Z",
     "iopub.status.busy": "2022-08-17T10:25:33.464989Z",
     "iopub.status.idle": "2022-08-17T10:25:33.707743Z",
     "shell.execute_reply": "2022-08-17T10:25:33.706590Z"
    },
    "id": "765f7f11",
    "outputId": "47d498e2-5766-4ff7-c99e-4016f8a36620",
    "papermill": {
     "duration": 0.270988,
     "end_time": "2022-08-17T10:25:33.710246",
     "exception": false,
     "start_time": "2022-08-17T10:25:33.439258",
     "status": "completed"
    },
    "tags": []
   },
   "outputs": [
    {
     "data": {
      "text/plain": [
       "<matplotlib.axes._subplots.AxesSubplot at 0x7f78b079b0d0>"
      ]
     },
     "execution_count": 14,
     "metadata": {},
     "output_type": "execute_result"
    },
    {
     "data": {
      "image/png": "[encoded data removed]",
      "text/plain": [
       "<Figure size 432x288 with 1 Axes>"
      ]
     },
     "metadata": {
      "needs_background": "light"
     },
     "output_type": "display_data"
    }
   ],
   "source": [
    "sns.barplot(x=\"Customer type\",y=\"Rating\" , data = df)"
   ]
  },
  {
   "cell_type": "code",
   "execution_count": 15,
   "id": "847fbe35",
   "metadata": {
    "colab": {
     "base_uri": "https://localhost:8080/",
     "height": 403
    },
    "execution": {
     "iopub.execute_input": "2022-08-17T10:25:33.758697Z",
     "iopub.status.busy": "2022-08-17T10:25:33.757910Z",
     "iopub.status.idle": "2022-08-17T10:25:34.506092Z",
     "shell.execute_reply": "2022-08-17T10:25:34.504838Z"
    },
    "id": "847fbe35",
    "outputId": "f2d0bfae-5627-413a-a461-a37dc96accd5",
    "papermill": {
     "duration": 0.775766,
     "end_time": "2022-08-17T10:25:34.508845",
     "exception": false,
     "start_time": "2022-08-17T10:25:33.733079",
     "status": "completed"
    },
    "tags": []
   },
   "outputs": [
    {
     "data": {
      "text/plain": [
       "<matplotlib.axes._subplots.AxesSubplot at 0x7f78b06ff590>"
      ]
     },
     "execution_count": 15,
     "metadata": {},
     "output_type": "execute_result"
    },
    {
     "data": {
      "image/png": "[encoded data removed]",
      "text/plain": [
       "<Figure size 864x432 with 1 Axes>"
      ]
     },
     "metadata": {
      "needs_background": "light"
     },
     "output_type": "display_data"
    }
   ],
   "source": [
    "plt.figure(figsize = (12,6))\n",
    "df['Rating'].value_counts().plot(kind=\"bar\")"
   ]
  },
  {
   "cell_type": "code",
   "execution_count": 16,
   "id": "31d56258",
   "metadata": {
    "colab": {
     "base_uri": "https://localhost:8080/",
     "height": 296
    },
    "execution": {
     "iopub.execute_input": "2022-08-17T10:25:34.836249Z",
     "iopub.status.busy": "2022-08-17T10:25:34.835839Z",
     "iopub.status.idle": "2022-08-17T10:25:35.079410Z",
     "shell.execute_reply": "2022-08-17T10:25:35.078270Z"
    },
    "id": "31d56258",
    "outputId": "2d44429d-9631-49df-9a11-14ffc6d8a49c",
    "papermill": {
     "duration": 0.271322,
     "end_time": "2022-08-17T10:25:35.081892",
     "exception": false,
     "start_time": "2022-08-17T10:25:34.810570",
     "status": "completed"
    },
    "tags": []
   },
   "outputs": [
    {
     "data": {
      "text/plain": [
       "<matplotlib.axes._subplots.AxesSubplot at 0x7f78b04b7b50>"
      ]
     },
     "execution_count": 16,
     "metadata": {},
     "output_type": "execute_result"
    },
    {
     "data": {
      "image/png": "[encoded data removed]",
      "text/plain": [
       "<Figure size 432x288 with 1 Axes>"
      ]
     },
     "metadata": {
      "needs_background": "light"
     },
     "output_type": "display_data"
    }
   ],
   "source": [
    "sns.barplot(x=\"Gender\",y=\"gross income\" , data = df)"
   ]
  },
  {
   "cell_type": "code",
   "execution_count": 17,
   "id": "1dc068ce",
   "metadata": {
    "colab": {
     "base_uri": "https://localhost:8080/",
     "height": 296
    },
    "execution": {
     "iopub.execute_input": "2022-08-17T10:25:35.133043Z",
     "iopub.status.busy": "2022-08-17T10:25:35.132612Z",
     "iopub.status.idle": "2022-08-17T10:25:35.392492Z",
     "shell.execute_reply": "2022-08-17T10:25:35.391184Z"
    },
    "id": "1dc068ce",
    "outputId": "2af9db78-f87a-428f-f7ac-25d969d3d3fc",
    "papermill": {
     "duration": 0.288693,
     "end_time": "2022-08-17T10:25:35.394907",
     "exception": false,
     "start_time": "2022-08-17T10:25:35.106214",
     "status": "completed"
    },
    "tags": []
   },
   "outputs": [
    {
     "data": {
      "text/plain": [
       "<matplotlib.axes._subplots.AxesSubplot at 0x7f78b0435e90>"
      ]
     },
     "execution_count": 17,
     "metadata": {},
     "output_type": "execute_result"
    },
    {
     "data": {
      "image/png": "[encoded data removed]",
      "text/plain": [
       "<Figure size 432x288 with 1 Axes>"
      ]
     },
     "metadata": {
      "needs_background": "light"
     },
     "output_type": "display_data"
    }
   ],
   "source": [
    "sns.barplot(x=\"Gender\",y=\"Total\" , data = df)"
   ]
  },
  {
   "cell_type": "markdown",
   "id": "51c60395",
   "metadata": {
    "id": "51c60395",
    "papermill": {
     "duration": 0.023921,
     "end_time": "2022-08-17T10:25:35.443305",
     "exception": false,
     "start_time": "2022-08-17T10:25:35.419384",
     "status": "completed"
    },
    "tags": []
   },
   "source": [
    "Females have done shopping more than males."
   ]
  },
  {
   "cell_type": "code",
   "execution_count": 18,
   "id": "68689976",
   "metadata": {
    "colab": {
     "base_uri": "https://localhost:8080/"
    },
    "execution": {
     "iopub.execute_input": "2022-08-17T10:25:35.494783Z",
     "iopub.status.busy": "2022-08-17T10:25:35.493552Z",
     "iopub.status.idle": "2022-08-17T10:25:35.502827Z",
     "shell.execute_reply": "2022-08-17T10:25:35.501832Z"
    },
    "id": "68689976",
    "outputId": "487e4faf-7af7-4f5e-f55e-39148e9de972",
    "papermill": {
     "duration": 0.037446,
     "end_time": "2022-08-17T10:25:35.505104",
     "exception": false,
     "start_time": "2022-08-17T10:25:35.467658",
     "status": "completed"
    },
    "tags": []
   },
   "outputs": [
    {
     "data": {
      "text/plain": [
       "Fashion accessories       178\n",
       "Food and beverages        174\n",
       "Electronic accessories    170\n",
       "Sports and travel         166\n",
       "Home and lifestyle        160\n",
       "Health and beauty         152\n",
       "Name: Product line, dtype: int64"
      ]
     },
     "execution_count": 18,
     "metadata": {},
     "output_type": "execute_result"
    }
   ],
   "source": [
    "df['Product line'].value_counts()"
   ]
  },
  {
   "cell_type": "code",
   "execution_count": 19,
   "id": "9caa8f68",
   "metadata": {
    "colab": {
     "base_uri": "https://localhost:8080/",
     "height": 492
    },
    "execution": {
     "iopub.execute_input": "2022-08-17T10:25:35.555804Z",
     "iopub.status.busy": "2022-08-17T10:25:35.554601Z",
     "iopub.status.idle": "2022-08-17T10:25:35.734839Z",
     "shell.execute_reply": "2022-08-17T10:25:35.733705Z"
    },
    "id": "9caa8f68",
    "outputId": "f63c24e2-754a-4489-c788-8d43b8d286b2",
    "papermill": {
     "duration": 0.208203,
     "end_time": "2022-08-17T10:25:35.737314",
     "exception": false,
     "start_time": "2022-08-17T10:25:35.529111",
     "status": "completed"
    },
    "tags": []
   },
   "outputs": [
    {
     "data": {
      "text/plain": [
       "<matplotlib.axes._subplots.AxesSubplot at 0x7f78b04239d0>"
      ]
     },
     "execution_count": 19,
     "metadata": {},
     "output_type": "execute_result"
    },
    {
     "data": {
      "image/png": "[encoded data removed]",
      "text/plain": [
       "<Figure size 864x432 with 1 Axes>"
      ]
     },
     "metadata": {
      "needs_background": "light"
     },
     "output_type": "display_data"
    }
   ],
   "source": [
    "plt.figure(figsize = (12,6))\n",
    "df['Product line'].value_counts().plot(kind=\"bar\")"
   ]
  },
  {
   "cell_type": "code",
   "execution_count": 20,
   "id": "01265850",
   "metadata": {
    "colab": {
     "base_uri": "https://localhost:8080/",
     "height": 405
    },
    "execution": {
     "iopub.execute_input": "2022-08-17T10:25:35.789350Z",
     "iopub.status.busy": "2022-08-17T10:25:35.788332Z",
     "iopub.status.idle": "2022-08-17T10:25:36.100005Z",
     "shell.execute_reply": "2022-08-17T10:25:36.098926Z"
    },
    "id": "01265850",
    "outputId": "205bf431-9b1f-4b30-b504-3740cad2ad2a",
    "papermill": {
     "duration": 0.34043,
     "end_time": "2022-08-17T10:25:36.102574",
     "exception": false,
     "start_time": "2022-08-17T10:25:35.762144",
     "status": "completed"
    },
    "tags": []
   },
   "outputs": [
    {
     "data": {
      "text/plain": [
       "<matplotlib.axes._subplots.AxesSubplot at 0x7f78b037dad0>"
      ]
     },
     "execution_count": 20,
     "metadata": {},
     "output_type": "execute_result"
    },
    {
     "data": {
      "image/png": "[encoded data removed]",
      "text/plain": [
       "<Figure size 864x432 with 1 Axes>"
      ]
     },
     "metadata": {
      "needs_background": "light"
     },
     "output_type": "display_data"
    }
   ],
   "source": [
    "plt.figure(figsize = (12,6))\n",
    "sns.barplot(x=\"Product line\",y=\"Total\" , data = df )"
   ]
  },
  {
   "cell_type": "code",
   "execution_count": 21,
   "id": "24c43fad",
   "metadata": {
    "colab": {
     "base_uri": "https://localhost:8080/",
     "height": 405
    },
    "execution": {
     "iopub.execute_input": "2022-08-17T10:25:36.154310Z",
     "iopub.status.busy": "2022-08-17T10:25:36.153915Z",
     "iopub.status.idle": "2022-08-17T10:25:36.474776Z",
     "shell.execute_reply": "2022-08-17T10:25:36.473841Z"
    },
    "id": "24c43fad",
    "outputId": "0e7c2f7f-32e1-4f35-b689-7785699024df",
    "papermill": {
     "duration": 0.349552,
     "end_time": "2022-08-17T10:25:36.477262",
     "exception": false,
     "start_time": "2022-08-17T10:25:36.127710",
     "status": "completed"
    },
    "tags": []
   },
   "outputs": [
    {
     "data": {
      "text/plain": [
       "<matplotlib.axes._subplots.AxesSubplot at 0x7f78b02ad490>"
      ]
     },
     "execution_count": 21,
     "metadata": {},
     "output_type": "execute_result"
    },
    {
     "data": {
      "image/png": "[encoded data removed]",
      "text/plain": [
       "<Figure size 864x432 with 1 Axes>"
      ]
     },
     "metadata": {
      "needs_background": "light"
     },
     "output_type": "display_data"
    }
   ],
   "source": [
    "plt.figure(figsize = (12,6))\n",
    "sns.barplot(x=\"Product line\",y=\"gross income\", data = df )"
   ]
  },
  {
   "cell_type": "code",
   "execution_count": 22,
   "id": "e54b4e65",
   "metadata": {
    "colab": {
     "base_uri": "https://localhost:8080/",
     "height": 405
    },
    "execution": {
     "iopub.execute_input": "2022-08-17T10:25:36.531011Z",
     "iopub.status.busy": "2022-08-17T10:25:36.530169Z",
     "iopub.status.idle": "2022-08-17T10:25:36.904969Z",
     "shell.execute_reply": "2022-08-17T10:25:36.903620Z"
    },
    "id": "e54b4e65",
    "outputId": "7e89dbef-5855-43f8-d205-268946dffd82",
    "papermill": {
     "duration": 0.405046,
     "end_time": "2022-08-17T10:25:36.907884",
     "exception": false,
     "start_time": "2022-08-17T10:25:36.502838",
     "status": "completed"
    },
    "tags": []
   },
   "outputs": [
    {
     "data": {
      "text/plain": [
       "<matplotlib.axes._subplots.AxesSubplot at 0x7f78b04b0110>"
      ]
     },
     "execution_count": 22,
     "metadata": {},
     "output_type": "execute_result"
    },
    {
     "data": {
      "image/png": "[encoded data removed]",
      "text/plain": [
       "<Figure size 864x432 with 1 Axes>"
      ]
     },
     "metadata": {
      "needs_background": "light"
     },
     "output_type": "display_data"
    }
   ],
   "source": [
    "plt.figure(figsize = (12,6))\n",
    "sns.barplot(x=\"Product line\",y=\"Rating\" , data = df )"
   ]
  },
  {
   "cell_type": "markdown",
   "id": "c6747172",
   "metadata": {
    "id": "c6747172",
    "papermill": {
     "duration": 0.026947,
     "end_time": "2022-08-17T10:25:36.961884",
     "exception": false,
     "start_time": "2022-08-17T10:25:36.934937",
     "status": "completed"
    },
    "tags": []
   },
   "source": [
    "Productline category **\"Home and lifestyle\"** has more Sales, however, rating of the same is lowest among all categories."
   ]
  },
  {
   "cell_type": "code",
   "execution_count": 23,
   "id": "2fbde21c",
   "metadata": {
    "colab": {
     "base_uri": "https://localhost:8080/"
    },
    "execution": {
     "iopub.execute_input": "2022-08-17T10:25:37.017170Z",
     "iopub.status.busy": "2022-08-17T10:25:37.016351Z",
     "iopub.status.idle": "2022-08-17T10:25:37.027725Z",
     "shell.execute_reply": "2022-08-17T10:25:37.026713Z"
    },
    "id": "2fbde21c",
    "outputId": "e41fd635-e9ee-4a33-89b1-b097eefcac64",
    "papermill": {
     "duration": 0.041199,
     "end_time": "2022-08-17T10:25:37.030094",
     "exception": false,
     "start_time": "2022-08-17T10:25:36.988895",
     "status": "completed"
    },
    "tags": []
   },
   "outputs": [
    {
     "data": {
      "text/plain": [
       "Product line\n",
       "Electronic accessories    53.551588\n",
       "Fashion accessories       57.153652\n",
       "Food and beverages        56.008851\n",
       "Health and beauty         54.854474\n",
       "Home and lifestyle        55.316937\n",
       "Sports and travel         56.993253\n",
       "Name: Unit price, dtype: float64"
      ]
     },
     "execution_count": 23,
     "metadata": {},
     "output_type": "execute_result"
    }
   ],
   "source": [
    "df.groupby(['Product line'])['Unit price'].mean()"
   ]
  },
  {
   "cell_type": "code",
   "execution_count": 24,
   "id": "414d3583",
   "metadata": {
    "colab": {
     "base_uri": "https://localhost:8080/"
    },
    "execution": {
     "iopub.execute_input": "2022-08-17T10:25:37.085254Z",
     "iopub.status.busy": "2022-08-17T10:25:37.084106Z",
     "iopub.status.idle": "2022-08-17T10:25:37.094425Z",
     "shell.execute_reply": "2022-08-17T10:25:37.093449Z"
    },
    "id": "414d3583",
    "outputId": "3031fa5f-a45c-4db8-a44a-d1ca9b713feb",
    "papermill": {
     "duration": 0.040213,
     "end_time": "2022-08-17T10:25:37.096661",
     "exception": false,
     "start_time": "2022-08-17T10:25:37.056448",
     "status": "completed"
    },
    "tags": []
   },
   "outputs": [
    {
     "data": {
      "text/plain": [
       "Product line\n",
       "Electronic accessories    5.711765\n",
       "Fashion accessories       5.067416\n",
       "Food and beverages        5.471264\n",
       "Health and beauty         5.618421\n",
       "Home and lifestyle        5.693750\n",
       "Sports and travel         5.542169\n",
       "Name: Quantity, dtype: float64"
      ]
     },
     "execution_count": 24,
     "metadata": {},
     "output_type": "execute_result"
    }
   ],
   "source": [
    "df.groupby(['Product line'])['Quantity'].mean()"
   ]
  },
  {
   "cell_type": "code",
   "execution_count": 25,
   "id": "11c885aa",
   "metadata": {
    "colab": {
     "base_uri": "https://localhost:8080/",
     "height": 405
    },
    "execution": {
     "iopub.execute_input": "2022-08-17T10:25:37.198196Z",
     "iopub.status.busy": "2022-08-17T10:25:37.197310Z",
     "iopub.status.idle": "2022-08-17T10:25:37.756736Z",
     "shell.execute_reply": "2022-08-17T10:25:37.755588Z"
    },
    "id": "11c885aa",
    "outputId": "0e2f31ef-f555-40eb-bef8-07d3d5f294fe",
    "papermill": {
     "duration": 0.636684,
     "end_time": "2022-08-17T10:25:37.759420",
     "exception": false,
     "start_time": "2022-08-17T10:25:37.122736",
     "status": "completed"
    },
    "tags": []
   },
   "outputs": [
    {
     "data": {
      "text/plain": [
       "<matplotlib.axes._subplots.AxesSubplot at 0x7f78b0841310>"
      ]
     },
     "execution_count": 25,
     "metadata": {},
     "output_type": "execute_result"
    },
    {
     "data": {
      "image/png": "[encoded data removed]",
      "text/plain": [
       "<Figure size 864x432 with 1 Axes>"
      ]
     },
     "metadata": {
      "needs_background": "light"
     },
     "output_type": "display_data"
    }
   ],
   "source": [
    "plt.figure(figsize = (12,6))\n",
    "sns.barplot(x=\"Product line\",y=\"Total\" , data = df , hue = \"Gender\")"
   ]
  },
  {
   "cell_type": "markdown",
   "id": "0962bd3c",
   "metadata": {
    "id": "0962bd3c",
    "papermill": {
     "duration": 0.028092,
     "end_time": "2022-08-17T10:25:37.814509",
     "exception": false,
     "start_time": "2022-08-17T10:25:37.786417",
     "status": "completed"
    },
    "tags": []
   },
   "source": [
    "Females do more \"Home and lifestyle\" shopping. Suprisingly, in the category of \"Health and beauty\" product line, males do more shopping."
   ]
  },
  {
   "cell_type": "code",
   "execution_count": 26,
   "id": "604ff688",
   "metadata": {
    "colab": {
     "base_uri": "https://localhost:8080/",
     "height": 405
    },
    "execution": {
     "iopub.execute_input": "2022-08-17T10:25:37.869701Z",
     "iopub.status.busy": "2022-08-17T10:25:37.869294Z",
     "iopub.status.idle": "2022-08-17T10:25:38.463669Z",
     "shell.execute_reply": "2022-08-17T10:25:38.462037Z"
    },
    "id": "604ff688",
    "outputId": "4b039353-a169-4658-b3c4-85fbebcda241",
    "papermill": {
     "duration": 0.625926,
     "end_time": "2022-08-17T10:25:38.467154",
     "exception": false,
     "start_time": "2022-08-17T10:25:37.841228",
     "status": "completed"
    },
    "tags": []
   },
   "outputs": [
    {
     "data": {
      "text/plain": [
       "<matplotlib.axes._subplots.AxesSubplot at 0x7f78b0144b50>"
      ]
     },
     "execution_count": 26,
     "metadata": {},
     "output_type": "execute_result"
    },
    {
     "data": {
      "image/png": "[encoded data removed]",
      "text/plain": [
       "<Figure size 864x432 with 1 Axes>"
      ]
     },
     "metadata": {
      "needs_background": "light"
     },
     "output_type": "display_data"
    }
   ],
   "source": [
    "plt.figure(figsize = (12,6))\n",
    "sns.barplot(x=\"Product line\",y=\"Rating\" , data = df , hue = \"Gender\")"
   ]
  },
  {
   "cell_type": "code",
   "execution_count": 27,
   "id": "8da38e2b",
   "metadata": {
    "colab": {
     "base_uri": "https://localhost:8080/"
    },
    "execution": {
     "iopub.execute_input": "2022-08-17T10:25:38.524777Z",
     "iopub.status.busy": "2022-08-17T10:25:38.524027Z",
     "iopub.status.idle": "2022-08-17T10:25:38.531352Z",
     "shell.execute_reply": "2022-08-17T10:25:38.530369Z"
    },
    "id": "8da38e2b",
    "outputId": "2dbdf90f-c12d-4ec8-f2f5-7426db99fda4",
    "papermill": {
     "duration": 0.038584,
     "end_time": "2022-08-17T10:25:38.533488",
     "exception": false,
     "start_time": "2022-08-17T10:25:38.494904",
     "status": "completed"
    },
    "tags": []
   },
   "outputs": [
    {
     "data": {
      "text/plain": [
       "array([345, 344, 311])"
      ]
     },
     "execution_count": 27,
     "metadata": {},
     "output_type": "execute_result"
    }
   ],
   "source": [
    "df['Payment'].value_counts().values"
   ]
  },
  {
   "cell_type": "code",
   "execution_count": 28,
   "id": "220af8b5",
   "metadata": {
    "colab": {
     "base_uri": "https://localhost:8080/"
    },
    "execution": {
     "iopub.execute_input": "2022-08-17T10:25:38.591013Z",
     "iopub.status.busy": "2022-08-17T10:25:38.590165Z",
     "iopub.status.idle": "2022-08-17T10:25:38.597425Z",
     "shell.execute_reply": "2022-08-17T10:25:38.596656Z"
    },
    "id": "220af8b5",
    "outputId": "f7106d4a-402a-4814-bfad-c5e67c71beeb",
    "papermill": {
     "duration": 0.038916,
     "end_time": "2022-08-17T10:25:38.599850",
     "exception": false,
     "start_time": "2022-08-17T10:25:38.560934",
     "status": "completed"
    },
    "tags": []
   },
   "outputs": [
    {
     "data": {
      "text/plain": [
       "Index(['Ewallet', 'Cash', 'Credit card'], dtype='object')"
      ]
     },
     "execution_count": 28,
     "metadata": {},
     "output_type": "execute_result"
    }
   ],
   "source": [
    "df['Payment'].value_counts().index"
   ]
  },
  {
   "cell_type": "code",
   "execution_count": 29,
   "id": "b68853d5",
   "metadata": {
    "colab": {
     "base_uri": "https://localhost:8080/",
     "height": 327
    },
    "execution": {
     "iopub.execute_input": "2022-08-17T10:25:38.656346Z",
     "iopub.status.busy": "2022-08-17T10:25:38.655671Z",
     "iopub.status.idle": "2022-08-17T10:25:38.790664Z",
     "shell.execute_reply": "2022-08-17T10:25:38.789809Z"
    },
    "id": "b68853d5",
    "outputId": "f3ff48fd-6d80-4a23-d449-abf730308bad",
    "papermill": {
     "duration": 0.166079,
     "end_time": "2022-08-17T10:25:38.793093",
     "exception": false,
     "start_time": "2022-08-17T10:25:38.627014",
     "status": "completed"
    },
    "tags": []
   },
   "outputs": [
    {
     "data": {
      "text/plain": [
       "<matplotlib.axes._subplots.AxesSubplot at 0x7f78b0089e50>"
      ]
     },
     "execution_count": 29,
     "metadata": {},
     "output_type": "execute_result"
    },
    {
     "data": {
      "image/png": "[encoded data removed]",
      "text/plain": [
       "<Figure size 432x288 with 1 Axes>"
      ]
     },
     "metadata": {
      "needs_background": "light"
     },
     "output_type": "display_data"
    }
   ],
   "source": [
    "df['Payment'].value_counts().plot(kind=\"bar\")"
   ]
  },
  {
   "cell_type": "code",
   "execution_count": 30,
   "id": "5c9f7368",
   "metadata": {
    "colab": {
     "base_uri": "https://localhost:8080/",
     "height": 405
    },
    "execution": {
     "iopub.execute_input": "2022-08-17T10:25:38.851151Z",
     "iopub.status.busy": "2022-08-17T10:25:38.850699Z",
     "iopub.status.idle": "2022-08-17T10:25:39.072534Z",
     "shell.execute_reply": "2022-08-17T10:25:39.071220Z"
    },
    "id": "5c9f7368",
    "outputId": "93bdc7d1-e402-464a-9daf-3eaa3e40a720",
    "papermill": {
     "duration": 0.254165,
     "end_time": "2022-08-17T10:25:39.075144",
     "exception": false,
     "start_time": "2022-08-17T10:25:38.820979",
     "status": "completed"
    },
    "tags": []
   },
   "outputs": [
    {
     "data": {
      "text/plain": [
       "<matplotlib.axes._subplots.AxesSubplot at 0x7f78afff80d0>"
      ]
     },
     "execution_count": 30,
     "metadata": {},
     "output_type": "execute_result"
    },
    {
     "data": {
      "image/png": "[encoded data removed]",
      "text/plain": [
       "<Figure size 864x432 with 1 Axes>"
      ]
     },
     "metadata": {
      "needs_background": "light"
     },
     "output_type": "display_data"
    }
   ],
   "source": [
    "plt.figure(figsize = (12,6))\n",
    "sns.barplot(x=\"Payment\",y=\"Total\" , data = df)"
   ]
  },
  {
   "cell_type": "code",
   "execution_count": 31,
   "id": "19c41243",
   "metadata": {
    "colab": {
     "base_uri": "https://localhost:8080/",
     "height": 409
    },
    "execution": {
     "iopub.execute_input": "2022-08-17T10:25:39.133462Z",
     "iopub.status.busy": "2022-08-17T10:25:39.132829Z",
     "iopub.status.idle": "2022-08-17T10:25:39.480333Z",
     "shell.execute_reply": "2022-08-17T10:25:39.479169Z"
    },
    "id": "19c41243",
    "outputId": "8d6b9aaa-c745-4916-89ce-8380113114f0",
    "papermill": {
     "duration": 0.379277,
     "end_time": "2022-08-17T10:25:39.482770",
     "exception": false,
     "start_time": "2022-08-17T10:25:39.103493",
     "status": "completed"
    },
    "tags": []
   },
   "outputs": [
    {
     "data": {
      "text/plain": [
       "<matplotlib.axes._subplots.AxesSubplot at 0x7f78b0070cd0>"
      ]
     },
     "execution_count": 31,
     "metadata": {},
     "output_type": "execute_result"
    },
    {
     "data": {
      "image/png": "[encoded data removed]",
      "text/plain": [
       "<Figure size 864x432 with 1 Axes>"
      ]
     },
     "metadata": {
      "needs_background": "light"
     },
     "output_type": "display_data"
    }
   ],
   "source": [
    "plt.figure(figsize = (12,6))\n",
    "sns.barplot(x=\"Payment\",y=\"Total\" , data = df , hue = \"Gender\")"
   ]
  }
 ],
 "metadata": {
  "colab": {
   "provenance": []
  },
  "kernelspec": {
   "display_name": "Python 3 (ipykernel)",
   "language": "python",
   "name": "python3"
  },
  "language_info": {
   "codemirror_mode": {
    "name": "ipython",
    "version": 3
   },
   "file_extension": ".py",
   "mimetype": "text/x-python",
   "name": "python",
   "nbconvert_exporter": "python",
   "pygments_lexer": "ipython3",
   "version": "3.9.13"
  },
  "papermill": {
   "default_parameters": {},
   "duration": 28.733619,
   "end_time": "2022-08-17T10:25:40.819542",
   "environment_variables": {},
   "exception": null,
   "input_path": "__notebook__.ipynb",
   "output_path": "__notebook__.ipynb",
   "parameters": {},
   "start_time": "2022-08-17T10:25:12.085923",
   "version": "2.3.4"
  }
 },
 "nbformat": 4,
 "nbformat_minor": 5
}
